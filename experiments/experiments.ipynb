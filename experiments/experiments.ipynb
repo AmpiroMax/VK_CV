{
 "cells": [
  {
   "attachments": {},
   "cell_type": "markdown",
   "metadata": {},
   "source": [
    "# TODO:\n",
    "1. Попробовать обучить разные модели для обычной задачи классификации\n",
    "2. Поискать методы борьбы с дизбаллансом классов\n",
    "3. Необходимо попробовать поставить задачу классификации как задачу обучения метрики\n",
    "4. Задача обучения метрики с памятью\n",
    "5. У нас есть доступ к тестовому множеству. Надо использовать это."
   ]
  },
  {
   "cell_type": "code",
   "execution_count": 1,
   "metadata": {},
   "outputs": [],
   "source": [
    "%load_ext autoreload\n",
    "%autoreload 2"
   ]
  },
  {
   "cell_type": "code",
   "execution_count": 2,
   "metadata": {},
   "outputs": [],
   "source": [
    "import os\n",
    "\n",
    "os.environ[\"PROJECT_DIR\"]=\"/Max/Proga/VKMADE/homeworks/VK_CV/\"\n",
    "\n",
    "os.environ[\"N_ANCHOR_CLASSES\"] = \"10\"\n",
    "\n",
    "os.environ[\"IMG_H\"] = \"224\"\n",
    "os.environ[\"IMG_W\"] = \"224\"\n",
    "\n",
    "os.environ[\"MARGIN\"] = \"1.0\"\n",
    "os.environ[\"SESSION_SIZE\"] = \"100\"\n",
    "\n",
    "os.environ[\"MODEL_NAME\"] = \"smart_eff_twinlayer_derc\""
   ]
  },
  {
   "cell_type": "code",
   "execution_count": 3,
   "metadata": {},
   "outputs": [],
   "source": [
    "import torch\n",
    "import albumentations as albu\n",
    "import numpy as np\n",
    "import pandas as pd\n",
    "\n",
    "import matplotlib.pyplot as plt\n",
    "\n",
    "from src.pipelines.train_model import train\n",
    "from src.data.dataset import get_default_dataset\n",
    "from src.architectures.swin import SwinNetModel\n",
    "from src.architectures.effnet import EfficientNetModelB3\n",
    "from src.data.save_load_model import save_model, load_model\n",
    "\n",
    "from src.pipelines.predict import predict"
   ]
  },
  {
   "cell_type": "code",
   "execution_count": 4,
   "metadata": {},
   "outputs": [
    {
     "data": {
      "application/vnd.jupyter.widget-view+json": {
       "model_id": "d6ad95295c404309be7e2d2afebe0ffa",
       "version_major": 2,
       "version_minor": 0
      },
      "text/plain": [
       "Reading images:   0%|          | 0/45373 [00:00<?, ?it/s]"
      ]
     },
     "metadata": {},
     "output_type": "display_data"
    }
   ],
   "source": [
    "dataset = get_default_dataset()"
   ]
  },
  {
   "cell_type": "code",
   "execution_count": 5,
   "metadata": {},
   "outputs": [
    {
     "name": "stderr",
     "output_type": "stream",
     "text": [
      "c:\\max\\proga\\vkmade\\homeworks\\vk_cv\\src\\architectures\\effnet.py:11: UserWarning: nn.init.xavier_uniform is now deprecated in favor of nn.init.xavier_uniform_.\n",
      "  nn.init.xavier_uniform(m.weight)\n"
     ]
    },
    {
     "data": {
      "text/plain": [
       "12"
      ]
     },
     "execution_count": 5,
     "metadata": {},
     "output_type": "execute_result"
    }
   ],
   "source": [
    "EMBEDDING_SIZE = 600\n",
    "model = EfficientNetModelB3(EMBEDDING_SIZE)\n",
    "model.set_model_head_requires_grad()\n",
    "model.set_model_to_finetune()\n",
    "len(model.get_trainable_params())"
   ]
  },
  {
   "cell_type": "code",
   "execution_count": 6,
   "metadata": {},
   "outputs": [
    {
     "data": {
      "application/vnd.jupyter.widget-view+json": {
       "model_id": "699607c549304849a40018e3a95dd3a1",
       "version_major": 2,
       "version_minor": 0
      },
      "text/plain": [
       "  0%|          | 0/178 [00:00<?, ?it/s]"
      ]
     },
     "metadata": {},
     "output_type": "display_data"
    }
   ],
   "source": [
    "dataset.sampling_type = \"augmented\"\n",
    "history = train(\n",
    "    model=model,\n",
    "    dataset=dataset,\n",
    "    lr=5e-3,\n",
    "    batch_size=256,\n",
    "    epoch_num=1,\n",
    "    trainable_params=model.get_trainable_params(),\n",
    "    tensorboard=True,\n",
    "    iter_to_stop=100\n",
    ")"
   ]
  },
  {
   "cell_type": "code",
   "execution_count": 7,
   "metadata": {},
   "outputs": [],
   "source": [
    "for param in model.model.features[7].parameters():\n",
    "    param.requires_grad = True\n",
    "    \n",
    "for param in model.model.features[8].parameters():\n",
    "    param.requires_grad = True\n"
   ]
  },
  {
   "cell_type": "code",
   "execution_count": 8,
   "metadata": {},
   "outputs": [
    {
     "data": {
      "text/plain": [
       "80"
      ]
     },
     "execution_count": 8,
     "metadata": {},
     "output_type": "execute_result"
    }
   ],
   "source": [
    "len(model.get_trainable_params())"
   ]
  },
  {
   "cell_type": "code",
   "execution_count": 14,
   "metadata": {},
   "outputs": [],
   "source": [
    "model = load_model(\n",
    "    model_name=os.environ[\"MODEL_NAME\"]\n",
    ")"
   ]
  },
  {
   "cell_type": "code",
   "execution_count": 16,
   "metadata": {},
   "outputs": [
    {
     "data": {
      "application/vnd.jupyter.widget-view+json": {
       "model_id": "cdc1981520a44c368252317561b15401",
       "version_major": 2,
       "version_minor": 0
      },
      "text/plain": [
       "  0%|          | 0/355 [00:00<?, ?it/s]"
      ]
     },
     "metadata": {},
     "output_type": "display_data"
    }
   ],
   "source": [
    "dataset.sampling_type = \"augmented\"\n",
    "history = train(\n",
    "    model=model,\n",
    "    dataset=dataset,\n",
    "    lr=5e-7,\n",
    "    batch_size=128,\n",
    "    epoch_num=1,\n",
    "    trainable_params=model.get_trainable_params(),\n",
    "    tensorboard=True\n",
    ")"
   ]
  },
  {
   "cell_type": "code",
   "execution_count": 17,
   "metadata": {},
   "outputs": [],
   "source": [
    "save_model(\n",
    "    model=model,\n",
    "    model_name=os.environ[\"MODEL_NAME\"]\n",
    ")"
   ]
  },
  {
   "cell_type": "code",
   "execution_count": 18,
   "metadata": {},
   "outputs": [
    {
     "data": {
      "application/vnd.jupyter.widget-view+json": {
       "model_id": "46aa6a6008544caaab8b29a5a65cc1a8",
       "version_major": 2,
       "version_minor": 0
      },
      "text/plain": [
       "Reading images:   0%|          | 0/45373 [00:00<?, ?it/s]"
      ]
     },
     "metadata": {},
     "output_type": "display_data"
    },
    {
     "data": {
      "application/vnd.jupyter.widget-view+json": {
       "model_id": "2f574a1a11e34059be7afd494bd8f7af",
       "version_major": 2,
       "version_minor": 0
      },
      "text/plain": [
       "  0%|          | 0/19446 [00:00<?, ?it/s]"
      ]
     },
     "metadata": {},
     "output_type": "display_data"
    }
   ],
   "source": [
    "predict(os.environ[\"MODEL_NAME\"])"
   ]
  },
  {
   "cell_type": "code",
   "execution_count": null,
   "metadata": {},
   "outputs": [],
   "source": []
  }
 ],
 "metadata": {
  "kernelspec": {
   "display_name": ".venv",
   "language": "python",
   "name": "python3"
  },
  "language_info": {
   "codemirror_mode": {
    "name": "ipython",
    "version": 3
   },
   "file_extension": ".py",
   "mimetype": "text/x-python",
   "name": "python",
   "nbconvert_exporter": "python",
   "pygments_lexer": "ipython3",
   "version": "3.10.7"
  },
  "orig_nbformat": 4
 },
 "nbformat": 4,
 "nbformat_minor": 2
}
